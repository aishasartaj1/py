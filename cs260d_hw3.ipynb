{
  "cells": [
    {
      "cell_type": "markdown",
      "metadata": {
        "id": "view-in-github",
        "colab_type": "text"
      },
      "source": [
        "<a href=\"https://colab.research.google.com/github/aishasartaj1/py/blob/master/cs260d_hw3.ipynb\" target=\"_parent\"><img src=\"https://colab.research.google.com/assets/colab-badge.svg\" alt=\"Open In Colab\"/></a>"
      ]
    },
    {
      "cell_type": "markdown",
      "source": [
        "# Setup"
      ],
      "metadata": {
        "id": "9juq7WHbdGBD"
      }
    },
    {
      "cell_type": "code",
      "execution_count": 1,
      "metadata": {
        "id": "_gxG5WxcbuV5",
        "colab": {
          "base_uri": "https://localhost:8080/"
        },
        "outputId": "7c119a69-f860-45f3-fef3-30d1d8133e26"
      },
      "outputs": [
        {
          "output_type": "stream",
          "name": "stdout",
          "text": [
            "Collecting spuco\n",
            "  Downloading spuco-2.0-py3-none-any.whl.metadata (4.0 kB)\n",
            "Requirement already satisfied: matplotlib>=3.7.1 in /usr/local/lib/python3.10/dist-packages (from spuco) (3.8.0)\n",
            "Requirement already satisfied: numpy>=1.23.5 in /usr/local/lib/python3.10/dist-packages (from spuco) (1.26.4)\n",
            "Requirement already satisfied: setuptools>=61.0 in /usr/local/lib/python3.10/dist-packages (from spuco) (75.1.0)\n",
            "Requirement already satisfied: torch>=2.0.0 in /usr/local/lib/python3.10/dist-packages (from spuco) (2.5.1+cu121)\n",
            "Requirement already satisfied: torchvision>=0.15.1 in /usr/local/lib/python3.10/dist-packages (from spuco) (0.20.1+cu121)\n",
            "Requirement already satisfied: tqdm>=4.65.0 in /usr/local/lib/python3.10/dist-packages (from spuco) (4.66.6)\n",
            "Requirement already satisfied: scikit-learn>=0.20.0 in /usr/local/lib/python3.10/dist-packages (from spuco) (1.5.2)\n",
            "Collecting wilds>=2.0.0 (from spuco)\n",
            "  Downloading wilds-2.0.0-py3-none-any.whl.metadata (22 kB)\n",
            "Requirement already satisfied: transformers>=3.5.0 in /usr/local/lib/python3.10/dist-packages (from spuco) (4.46.2)\n",
            "Requirement already satisfied: contourpy>=1.0.1 in /usr/local/lib/python3.10/dist-packages (from matplotlib>=3.7.1->spuco) (1.3.1)\n",
            "Requirement already satisfied: cycler>=0.10 in /usr/local/lib/python3.10/dist-packages (from matplotlib>=3.7.1->spuco) (0.12.1)\n",
            "Requirement already satisfied: fonttools>=4.22.0 in /usr/local/lib/python3.10/dist-packages (from matplotlib>=3.7.1->spuco) (4.54.1)\n",
            "Requirement already satisfied: kiwisolver>=1.0.1 in /usr/local/lib/python3.10/dist-packages (from matplotlib>=3.7.1->spuco) (1.4.7)\n",
            "Requirement already satisfied: packaging>=20.0 in /usr/local/lib/python3.10/dist-packages (from matplotlib>=3.7.1->spuco) (24.2)\n",
            "Requirement already satisfied: pillow>=6.2.0 in /usr/local/lib/python3.10/dist-packages (from matplotlib>=3.7.1->spuco) (11.0.0)\n",
            "Requirement already satisfied: pyparsing>=2.3.1 in /usr/local/lib/python3.10/dist-packages (from matplotlib>=3.7.1->spuco) (3.2.0)\n",
            "Requirement already satisfied: python-dateutil>=2.7 in /usr/local/lib/python3.10/dist-packages (from matplotlib>=3.7.1->spuco) (2.8.2)\n",
            "Requirement already satisfied: scipy>=1.6.0 in /usr/local/lib/python3.10/dist-packages (from scikit-learn>=0.20.0->spuco) (1.13.1)\n",
            "Requirement already satisfied: joblib>=1.2.0 in /usr/local/lib/python3.10/dist-packages (from scikit-learn>=0.20.0->spuco) (1.4.2)\n",
            "Requirement already satisfied: threadpoolctl>=3.1.0 in /usr/local/lib/python3.10/dist-packages (from scikit-learn>=0.20.0->spuco) (3.5.0)\n",
            "Requirement already satisfied: filelock in /usr/local/lib/python3.10/dist-packages (from torch>=2.0.0->spuco) (3.16.1)\n",
            "Requirement already satisfied: typing-extensions>=4.8.0 in /usr/local/lib/python3.10/dist-packages (from torch>=2.0.0->spuco) (4.12.2)\n",
            "Requirement already satisfied: networkx in /usr/local/lib/python3.10/dist-packages (from torch>=2.0.0->spuco) (3.4.2)\n",
            "Requirement already satisfied: jinja2 in /usr/local/lib/python3.10/dist-packages (from torch>=2.0.0->spuco) (3.1.4)\n",
            "Requirement already satisfied: fsspec in /usr/local/lib/python3.10/dist-packages (from torch>=2.0.0->spuco) (2024.10.0)\n",
            "Requirement already satisfied: sympy==1.13.1 in /usr/local/lib/python3.10/dist-packages (from torch>=2.0.0->spuco) (1.13.1)\n",
            "Requirement already satisfied: mpmath<1.4,>=1.1.0 in /usr/local/lib/python3.10/dist-packages (from sympy==1.13.1->torch>=2.0.0->spuco) (1.3.0)\n",
            "Requirement already satisfied: huggingface-hub<1.0,>=0.23.2 in /usr/local/lib/python3.10/dist-packages (from transformers>=3.5.0->spuco) (0.26.2)\n",
            "Requirement already satisfied: pyyaml>=5.1 in /usr/local/lib/python3.10/dist-packages (from transformers>=3.5.0->spuco) (6.0.2)\n",
            "Requirement already satisfied: regex!=2019.12.17 in /usr/local/lib/python3.10/dist-packages (from transformers>=3.5.0->spuco) (2024.9.11)\n",
            "Requirement already satisfied: requests in /usr/local/lib/python3.10/dist-packages (from transformers>=3.5.0->spuco) (2.32.3)\n",
            "Requirement already satisfied: safetensors>=0.4.1 in /usr/local/lib/python3.10/dist-packages (from transformers>=3.5.0->spuco) (0.4.5)\n",
            "Requirement already satisfied: tokenizers<0.21,>=0.20 in /usr/local/lib/python3.10/dist-packages (from transformers>=3.5.0->spuco) (0.20.3)\n",
            "Collecting ogb>=1.2.6 (from wilds>=2.0.0->spuco)\n",
            "  Downloading ogb-1.3.6-py3-none-any.whl.metadata (6.2 kB)\n",
            "Collecting outdated>=0.2.0 (from wilds>=2.0.0->spuco)\n",
            "  Downloading outdated-0.2.2-py2.py3-none-any.whl.metadata (4.7 kB)\n",
            "Requirement already satisfied: pandas>=1.1.0 in /usr/local/lib/python3.10/dist-packages (from wilds>=2.0.0->spuco) (2.2.2)\n",
            "Requirement already satisfied: pytz>=2020.4 in /usr/local/lib/python3.10/dist-packages (from wilds>=2.0.0->spuco) (2024.2)\n",
            "Requirement already satisfied: six>=1.12.0 in /usr/local/lib/python3.10/dist-packages (from ogb>=1.2.6->wilds>=2.0.0->spuco) (1.16.0)\n",
            "Requirement already satisfied: urllib3>=1.24.0 in /usr/local/lib/python3.10/dist-packages (from ogb>=1.2.6->wilds>=2.0.0->spuco) (2.2.3)\n",
            "Collecting littleutils (from outdated>=0.2.0->wilds>=2.0.0->spuco)\n",
            "  Downloading littleutils-0.2.4-py3-none-any.whl.metadata (679 bytes)\n",
            "Requirement already satisfied: tzdata>=2022.7 in /usr/local/lib/python3.10/dist-packages (from pandas>=1.1.0->wilds>=2.0.0->spuco) (2024.2)\n",
            "Requirement already satisfied: MarkupSafe>=2.0 in /usr/local/lib/python3.10/dist-packages (from jinja2->torch>=2.0.0->spuco) (3.0.2)\n",
            "Requirement already satisfied: charset-normalizer<4,>=2 in /usr/local/lib/python3.10/dist-packages (from requests->transformers>=3.5.0->spuco) (3.4.0)\n",
            "Requirement already satisfied: idna<4,>=2.5 in /usr/local/lib/python3.10/dist-packages (from requests->transformers>=3.5.0->spuco) (3.10)\n",
            "Requirement already satisfied: certifi>=2017.4.17 in /usr/local/lib/python3.10/dist-packages (from requests->transformers>=3.5.0->spuco) (2024.8.30)\n",
            "Downloading spuco-2.0-py3-none-any.whl (101 kB)\n",
            "\u001b[2K   \u001b[90m━━━━━━━━━━━━━━━━━━━━━━━━━━━━━━━━━━━━━━━━\u001b[0m \u001b[32m101.2/101.2 kB\u001b[0m \u001b[31m4.6 MB/s\u001b[0m eta \u001b[36m0:00:00\u001b[0m\n",
            "\u001b[?25hDownloading wilds-2.0.0-py3-none-any.whl (126 kB)\n",
            "\u001b[2K   \u001b[90m━━━━━━━━━━━━━━━━━━━━━━━━━━━━━━━━━━━━━━━━\u001b[0m \u001b[32m126.2/126.2 kB\u001b[0m \u001b[31m9.0 MB/s\u001b[0m eta \u001b[36m0:00:00\u001b[0m\n",
            "\u001b[?25hDownloading ogb-1.3.6-py3-none-any.whl (78 kB)\n",
            "\u001b[2K   \u001b[90m━━━━━━━━━━━━━━━━━━━━━━━━━━━━━━━━━━━━━━━━\u001b[0m \u001b[32m78.8/78.8 kB\u001b[0m \u001b[31m5.4 MB/s\u001b[0m eta \u001b[36m0:00:00\u001b[0m\n",
            "\u001b[?25hDownloading outdated-0.2.2-py2.py3-none-any.whl (7.5 kB)\n",
            "Downloading littleutils-0.2.4-py3-none-any.whl (8.1 kB)\n",
            "Installing collected packages: littleutils, outdated, ogb, wilds, spuco\n",
            "Successfully installed littleutils-0.2.4 ogb-1.3.6 outdated-0.2.2 spuco-2.0 wilds-2.0.0\n"
          ]
        }
      ],
      "source": [
        "%pip install spuco"
      ]
    },
    {
      "cell_type": "code",
      "execution_count": 2,
      "metadata": {
        "id": "63VHpRsybuV7"
      },
      "outputs": [],
      "source": [
        "import torch\n",
        "\n",
        "device = torch.device(\"cuda\")"
      ]
    },
    {
      "cell_type": "code",
      "execution_count": 3,
      "metadata": {
        "id": "sy1Jc16ebuV7"
      },
      "outputs": [],
      "source": [
        "from spuco.utils import set_seed\n",
        "\n",
        "set_seed(0)"
      ]
    },
    {
      "cell_type": "markdown",
      "source": [
        "# Dataset Creation"
      ],
      "metadata": {
        "id": "bGchS9VbdFBZ"
      }
    },
    {
      "cell_type": "code",
      "execution_count": 4,
      "metadata": {
        "id": "Uz6PxP11buV8",
        "colab": {
          "base_uri": "https://localhost:8080/"
        },
        "outputId": "cd205af2-f9fc-4f13-94fe-94a70f590aed"
      },
      "outputs": [
        {
          "output_type": "stream",
          "name": "stdout",
          "text": [
            "Downloading http://yann.lecun.com/exdb/mnist/train-images-idx3-ubyte.gz\n",
            "Failed to download (trying next):\n",
            "HTTP Error 403: Forbidden\n",
            "\n",
            "Downloading https://ossci-datasets.s3.amazonaws.com/mnist/train-images-idx3-ubyte.gz\n",
            "Downloading https://ossci-datasets.s3.amazonaws.com/mnist/train-images-idx3-ubyte.gz to /data/mnist/MNIST/raw/train-images-idx3-ubyte.gz\n"
          ]
        },
        {
          "output_type": "stream",
          "name": "stderr",
          "text": [
            "100%|██████████| 9.91M/9.91M [00:00<00:00, 13.9MB/s]\n"
          ]
        },
        {
          "output_type": "stream",
          "name": "stdout",
          "text": [
            "Extracting /data/mnist/MNIST/raw/train-images-idx3-ubyte.gz to /data/mnist/MNIST/raw\n",
            "\n",
            "Downloading http://yann.lecun.com/exdb/mnist/train-labels-idx1-ubyte.gz\n",
            "Failed to download (trying next):\n",
            "HTTP Error 403: Forbidden\n",
            "\n",
            "Downloading https://ossci-datasets.s3.amazonaws.com/mnist/train-labels-idx1-ubyte.gz\n",
            "Downloading https://ossci-datasets.s3.amazonaws.com/mnist/train-labels-idx1-ubyte.gz to /data/mnist/MNIST/raw/train-labels-idx1-ubyte.gz\n"
          ]
        },
        {
          "output_type": "stream",
          "name": "stderr",
          "text": [
            "100%|██████████| 28.9k/28.9k [00:00<00:00, 416kB/s]\n"
          ]
        },
        {
          "output_type": "stream",
          "name": "stdout",
          "text": [
            "Extracting /data/mnist/MNIST/raw/train-labels-idx1-ubyte.gz to /data/mnist/MNIST/raw\n",
            "\n",
            "Downloading http://yann.lecun.com/exdb/mnist/t10k-images-idx3-ubyte.gz\n",
            "Failed to download (trying next):\n",
            "HTTP Error 403: Forbidden\n",
            "\n",
            "Downloading https://ossci-datasets.s3.amazonaws.com/mnist/t10k-images-idx3-ubyte.gz\n",
            "Downloading https://ossci-datasets.s3.amazonaws.com/mnist/t10k-images-idx3-ubyte.gz to /data/mnist/MNIST/raw/t10k-images-idx3-ubyte.gz\n"
          ]
        },
        {
          "output_type": "stream",
          "name": "stderr",
          "text": [
            "100%|██████████| 1.65M/1.65M [00:00<00:00, 3.91MB/s]\n"
          ]
        },
        {
          "output_type": "stream",
          "name": "stdout",
          "text": [
            "Extracting /data/mnist/MNIST/raw/t10k-images-idx3-ubyte.gz to /data/mnist/MNIST/raw\n",
            "\n",
            "Downloading http://yann.lecun.com/exdb/mnist/t10k-labels-idx1-ubyte.gz\n",
            "Failed to download (trying next):\n",
            "HTTP Error 403: Forbidden\n",
            "\n",
            "Downloading https://ossci-datasets.s3.amazonaws.com/mnist/t10k-labels-idx1-ubyte.gz\n",
            "Downloading https://ossci-datasets.s3.amazonaws.com/mnist/t10k-labels-idx1-ubyte.gz to /data/mnist/MNIST/raw/t10k-labels-idx1-ubyte.gz\n"
          ]
        },
        {
          "output_type": "stream",
          "name": "stderr",
          "text": [
            "100%|██████████| 4.54k/4.54k [00:00<00:00, 4.58MB/s]\n"
          ]
        },
        {
          "output_type": "stream",
          "name": "stdout",
          "text": [
            "Extracting /data/mnist/MNIST/raw/t10k-labels-idx1-ubyte.gz to /data/mnist/MNIST/raw\n",
            "\n"
          ]
        },
        {
          "output_type": "stream",
          "name": "stderr",
          "text": [
            "100%|██████████| 48004/48004 [00:07<00:00, 6072.73it/s]\n",
            "100%|██████████| 10000/10000 [00:02<00:00, 4927.41it/s]\n"
          ]
        }
      ],
      "source": [
        "from spuco.robust_train import ERM\n",
        "from spuco.datasets import SpuCoMNIST, SpuriousFeatureDifficulty\n",
        "import torchvision.transforms as T\n",
        "\n",
        "classes = [[0, 1], [2, 3], [4, 5], [6, 7], [8, 9]]\n",
        "difficulty = SpuriousFeatureDifficulty.MAGNITUDE_LARGE\n",
        "\n",
        "trainset = SpuCoMNIST(\n",
        "    root=\"/data/mnist/\",\n",
        "    spurious_feature_difficulty=difficulty,\n",
        "    spurious_correlation_strength=0.995,\n",
        "    classes=classes,\n",
        "    split=\"train\",\n",
        "    label_noise=0.001\n",
        ")\n",
        "trainset.initialize()\n",
        "\n",
        "testset = SpuCoMNIST(\n",
        "    root=\"/data/mnist/\",\n",
        "    spurious_feature_difficulty=difficulty,\n",
        "    classes=classes,\n",
        "    split=\"test\"\n",
        ")\n",
        "testset.initialize()\n"
      ]
    },
    {
      "cell_type": "code",
      "source": [],
      "metadata": {
        "id": "tU0yUA_uddcu"
      },
      "execution_count": null,
      "outputs": []
    },
    {
      "cell_type": "code",
      "execution_count": 5,
      "metadata": {
        "id": "KVO6o_uWbuV7",
        "colab": {
          "base_uri": "https://localhost:8080/"
        },
        "outputId": "8743a085-4249-401e-d84a-32d32aeba214"
      },
      "outputs": [
        {
          "output_type": "stream",
          "name": "stderr",
          "text": [
            "100%|██████████| 11996/11996 [00:01<00:00, 6833.94it/s]\n"
          ]
        }
      ],
      "source": [
        "from spuco.datasets import SpuCoMNIST, SpuriousFeatureDifficulty\n",
        "\n",
        "classes = [[0, 1], [2, 3], [4, 5], [6, 7], [8, 9]]\n",
        "\n",
        "valset = SpuCoMNIST(\n",
        "    root=\"/data/mnist/\",\n",
        "    spurious_feature_difficulty=difficulty,\n",
        "    classes=classes,\n",
        "    split=\"val\"\n",
        ")\n",
        "valset.initialize()\n"
      ]
    },
    {
      "cell_type": "code",
      "execution_count": 6,
      "metadata": {
        "id": "-FdJJ2E6buV8",
        "colab": {
          "base_uri": "https://localhost:8080/",
          "height": 45
        },
        "outputId": "0967b774-3c7a-4d48-cbd7-376e632293e8"
      },
      "outputs": [
        {
          "output_type": "execute_result",
          "data": {
            "text/plain": [
              "<PIL.Image.Image image mode=RGB size=28x28>"
            ],
            "image/png": "[encoded data removed]",
            "image/jpeg": "[encoded data removed]"
          },
          "metadata": {},
          "execution_count": 6
        }
      ],
      "source": [
        "T.ToPILImage()(trainset[1000][0]).resize((28,28))"
      ]
    },
    {
      "cell_type": "markdown",
      "source": [
        "# Train using ERM"
      ],
      "metadata": {
        "id": "gpO9bBoqdLGe"
      }
    },
    {
      "cell_type": "code",
      "execution_count": 7,
      "metadata": {
        "id": "6ri49ayRbuV8"
      },
      "outputs": [],
      "source": [
        "from spuco.models import model_factory\n",
        "\n",
        "model = model_factory(\"lenet\", trainset[0][0].shape, trainset.num_classes).to(device)"
      ]
    },
    {
      "cell_type": "code",
      "execution_count": 8,
      "metadata": {
        "id": "z-i-GSKfbuV8",
        "colab": {
          "base_uri": "https://localhost:8080/"
        },
        "outputId": "f56180c0-c08b-4566-cde2-551e1321d9d1"
      },
      "outputs": [
        {
          "output_type": "stream",
          "name": "stderr",
          "text": [
            "/usr/local/lib/python3.10/dist-packages/torch/utils/data/dataloader.py:617: UserWarning: This DataLoader will create 4 worker processes in total. Our suggested max number of worker in current system is 2, which is smaller than what this DataLoader is going to create. Please be aware that excessive worker creation might get DataLoader running slow or even freeze, lower the worker number to avoid potential slowness/freeze if necessary.\n",
            "  warnings.warn(\n"
          ]
        }
      ],
      "source": [
        "from torch.optim import SGD\n",
        "\n",
        "erm = ERM(\n",
        "    model=model,\n",
        "    num_epochs=3,\n",
        "    trainset=trainset,\n",
        "    batch_size=64,\n",
        "    optimizer=SGD(model.parameters(), lr=1e-2, momentum=0.9, nesterov=True),\n",
        "    device=device,\n",
        "    verbose=True\n",
        ")"
      ]
    },
    {
      "cell_type": "code",
      "execution_count": 9,
      "metadata": {
        "id": "mm7BkwbLbuV9",
        "colab": {
          "base_uri": "https://localhost:8080/"
        },
        "outputId": "f324f719-57f3-4daf-cd52-bb7d73f438b5"
      },
      "outputs": [
        {
          "output_type": "stream",
          "name": "stderr",
          "text": [
            "Epoch 0: 100%|██████████| 751/751 [00:12<00:00, 60.17batch/s, accuracy=100.0%, loss=0.00619]\n",
            "Epoch 1: 100%|██████████| 751/751 [00:06<00:00, 110.24batch/s, accuracy=100.0%, loss=0.00383]\n",
            "Epoch 2: 100%|██████████| 751/751 [00:07<00:00, 100.65batch/s, accuracy=100.0%, loss=0.00793]\n"
          ]
        }
      ],
      "source": [
        "erm.train()"
      ]
    },
    {
      "cell_type": "code",
      "execution_count": 10,
      "metadata": {
        "id": "XEDo8G_sbuV9",
        "colab": {
          "base_uri": "https://localhost:8080/"
        },
        "outputId": "fc1bd61c-5892-43be-8ea1-8cf4d9a2b0dc"
      },
      "outputs": [
        {
          "output_type": "stream",
          "name": "stderr",
          "text": [
            "Evaluating group-wise accuracy:   4%|▍         | 1/25 [00:00<00:05,  4.01it/s]"
          ]
        },
        {
          "output_type": "stream",
          "name": "stdout",
          "text": [
            "Group (0, 0) Accuracy: 100.0\n"
          ]
        },
        {
          "output_type": "stream",
          "name": "stderr",
          "text": [
            "\rEvaluating group-wise accuracy:   8%|▊         | 2/25 [00:00<00:05,  3.85it/s]"
          ]
        },
        {
          "output_type": "stream",
          "name": "stdout",
          "text": [
            "Group (0, 1) Accuracy: 0.0\n"
          ]
        },
        {
          "output_type": "stream",
          "name": "stderr",
          "text": [
            "\rEvaluating group-wise accuracy:  12%|█▏        | 3/25 [00:00<00:05,  3.89it/s]"
          ]
        },
        {
          "output_type": "stream",
          "name": "stdout",
          "text": [
            "Group (0, 2) Accuracy: 0.0\n"
          ]
        },
        {
          "output_type": "stream",
          "name": "stderr",
          "text": [
            "\rEvaluating group-wise accuracy:  16%|█▌        | 4/25 [00:01<00:05,  3.92it/s]"
          ]
        },
        {
          "output_type": "stream",
          "name": "stdout",
          "text": [
            "Group (0, 3) Accuracy: 0.0\n"
          ]
        },
        {
          "output_type": "stream",
          "name": "stderr",
          "text": [
            "\rEvaluating group-wise accuracy:  20%|██        | 5/25 [00:01<00:05,  3.49it/s]"
          ]
        },
        {
          "output_type": "stream",
          "name": "stdout",
          "text": [
            "Group (0, 4) Accuracy: 0.0\n"
          ]
        },
        {
          "output_type": "stream",
          "name": "stderr",
          "text": [
            "\rEvaluating group-wise accuracy:  24%|██▍       | 6/25 [00:01<00:06,  3.02it/s]"
          ]
        },
        {
          "output_type": "stream",
          "name": "stdout",
          "text": [
            "Group (1, 0) Accuracy: 0.0\n"
          ]
        },
        {
          "output_type": "stream",
          "name": "stderr",
          "text": [
            "\rEvaluating group-wise accuracy:  28%|██▊       | 7/25 [00:02<00:05,  3.18it/s]"
          ]
        },
        {
          "output_type": "stream",
          "name": "stdout",
          "text": [
            "Group (1, 1) Accuracy: 100.0\n"
          ]
        },
        {
          "output_type": "stream",
          "name": "stderr",
          "text": [
            "\rEvaluating group-wise accuracy:  32%|███▏      | 8/25 [00:02<00:05,  3.34it/s]"
          ]
        },
        {
          "output_type": "stream",
          "name": "stdout",
          "text": [
            "Group (1, 2) Accuracy: 0.0\n"
          ]
        },
        {
          "output_type": "stream",
          "name": "stderr",
          "text": [
            "\rEvaluating group-wise accuracy:  36%|███▌      | 9/25 [00:02<00:04,  3.45it/s]"
          ]
        },
        {
          "output_type": "stream",
          "name": "stdout",
          "text": [
            "Group (1, 3) Accuracy: 0.0\n"
          ]
        },
        {
          "output_type": "stream",
          "name": "stderr",
          "text": [
            "\rEvaluating group-wise accuracy:  40%|████      | 10/25 [00:02<00:04,  3.59it/s]"
          ]
        },
        {
          "output_type": "stream",
          "name": "stdout",
          "text": [
            "Group (1, 4) Accuracy: 0.0\n"
          ]
        },
        {
          "output_type": "stream",
          "name": "stderr",
          "text": [
            "\rEvaluating group-wise accuracy:  44%|████▍     | 11/25 [00:03<00:03,  3.72it/s]"
          ]
        },
        {
          "output_type": "stream",
          "name": "stdout",
          "text": [
            "Group (2, 0) Accuracy: 0.0\n"
          ]
        },
        {
          "output_type": "stream",
          "name": "stderr",
          "text": [
            "\rEvaluating group-wise accuracy:  48%|████▊     | 12/25 [00:03<00:03,  3.79it/s]"
          ]
        },
        {
          "output_type": "stream",
          "name": "stdout",
          "text": [
            "Group (2, 1) Accuracy: 0.0\n"
          ]
        },
        {
          "output_type": "stream",
          "name": "stderr",
          "text": [
            "\rEvaluating group-wise accuracy:  52%|█████▏    | 13/25 [00:03<00:03,  3.86it/s]"
          ]
        },
        {
          "output_type": "stream",
          "name": "stdout",
          "text": [
            "Group (2, 2) Accuracy: 100.0\n"
          ]
        },
        {
          "output_type": "stream",
          "name": "stderr",
          "text": [
            "\rEvaluating group-wise accuracy:  56%|█████▌    | 14/25 [00:03<00:02,  3.86it/s]"
          ]
        },
        {
          "output_type": "stream",
          "name": "stdout",
          "text": [
            "Group (2, 3) Accuracy: 0.0\n"
          ]
        },
        {
          "output_type": "stream",
          "name": "stderr",
          "text": [
            "\rEvaluating group-wise accuracy:  60%|██████    | 15/25 [00:04<00:02,  3.78it/s]"
          ]
        },
        {
          "output_type": "stream",
          "name": "stdout",
          "text": [
            "Group (2, 4) Accuracy: 0.0\n"
          ]
        },
        {
          "output_type": "stream",
          "name": "stderr",
          "text": [
            "\rEvaluating group-wise accuracy:  64%|██████▍   | 16/25 [00:04<00:02,  3.81it/s]"
          ]
        },
        {
          "output_type": "stream",
          "name": "stdout",
          "text": [
            "Group (3, 0) Accuracy: 0.0\n"
          ]
        },
        {
          "output_type": "stream",
          "name": "stderr",
          "text": [
            "\rEvaluating group-wise accuracy:  68%|██████▊   | 17/25 [00:04<00:02,  3.80it/s]"
          ]
        },
        {
          "output_type": "stream",
          "name": "stdout",
          "text": [
            "Group (3, 1) Accuracy: 0.0\n"
          ]
        },
        {
          "output_type": "stream",
          "name": "stderr",
          "text": [
            "\rEvaluating group-wise accuracy:  72%|███████▏  | 18/25 [00:04<00:01,  3.86it/s]"
          ]
        },
        {
          "output_type": "stream",
          "name": "stdout",
          "text": [
            "Group (3, 2) Accuracy: 0.0\n"
          ]
        },
        {
          "output_type": "stream",
          "name": "stderr",
          "text": [
            "\rEvaluating group-wise accuracy:  76%|███████▌  | 19/25 [00:05<00:01,  3.94it/s]"
          ]
        },
        {
          "output_type": "stream",
          "name": "stdout",
          "text": [
            "Group (3, 3) Accuracy: 100.0\n"
          ]
        },
        {
          "output_type": "stream",
          "name": "stderr",
          "text": [
            "\rEvaluating group-wise accuracy:  80%|████████  | 20/25 [00:05<00:01,  3.95it/s]"
          ]
        },
        {
          "output_type": "stream",
          "name": "stdout",
          "text": [
            "Group (3, 4) Accuracy: 0.0\n"
          ]
        },
        {
          "output_type": "stream",
          "name": "stderr",
          "text": [
            "\rEvaluating group-wise accuracy:  84%|████████▍ | 21/25 [00:05<00:01,  3.95it/s]"
          ]
        },
        {
          "output_type": "stream",
          "name": "stdout",
          "text": [
            "Group (4, 0) Accuracy: 0.0\n"
          ]
        },
        {
          "output_type": "stream",
          "name": "stderr",
          "text": [
            "\rEvaluating group-wise accuracy:  88%|████████▊ | 22/25 [00:05<00:00,  3.96it/s]"
          ]
        },
        {
          "output_type": "stream",
          "name": "stdout",
          "text": [
            "Group (4, 1) Accuracy: 0.0\n"
          ]
        },
        {
          "output_type": "stream",
          "name": "stderr",
          "text": [
            "\rEvaluating group-wise accuracy:  92%|█████████▏| 23/25 [00:06<00:00,  3.99it/s]"
          ]
        },
        {
          "output_type": "stream",
          "name": "stdout",
          "text": [
            "Group (4, 2) Accuracy: 0.0\n"
          ]
        },
        {
          "output_type": "stream",
          "name": "stderr",
          "text": [
            "\rEvaluating group-wise accuracy:  96%|█████████▌| 24/25 [00:06<00:00,  3.96it/s]"
          ]
        },
        {
          "output_type": "stream",
          "name": "stdout",
          "text": [
            "Group (4, 3) Accuracy: 0.0\n"
          ]
        },
        {
          "output_type": "stream",
          "name": "stderr",
          "text": [
            "Evaluating group-wise accuracy: 100%|██████████| 25/25 [00:06<00:00,  3.75it/s]"
          ]
        },
        {
          "output_type": "stream",
          "name": "stdout",
          "text": [
            "Group (4, 4) Accuracy: 100.0\n"
          ]
        },
        {
          "output_type": "stream",
          "name": "stderr",
          "text": [
            "\n"
          ]
        },
        {
          "output_type": "execute_result",
          "data": {
            "text/plain": [
              "{(0, 0): 100.0,\n",
              " (0, 1): 0.0,\n",
              " (0, 2): 0.0,\n",
              " (0, 3): 0.0,\n",
              " (0, 4): 0.0,\n",
              " (1, 0): 0.0,\n",
              " (1, 1): 100.0,\n",
              " (1, 2): 0.0,\n",
              " (1, 3): 0.0,\n",
              " (1, 4): 0.0,\n",
              " (2, 0): 0.0,\n",
              " (2, 1): 0.0,\n",
              " (2, 2): 100.0,\n",
              " (2, 3): 0.0,\n",
              " (2, 4): 0.0,\n",
              " (3, 0): 0.0,\n",
              " (3, 1): 0.0,\n",
              " (3, 2): 0.0,\n",
              " (3, 3): 100.0,\n",
              " (3, 4): 0.0,\n",
              " (4, 0): 0.0,\n",
              " (4, 1): 0.0,\n",
              " (4, 2): 0.0,\n",
              " (4, 3): 0.0,\n",
              " (4, 4): 100.0}"
            ]
          },
          "metadata": {},
          "execution_count": 10
        }
      ],
      "source": [
        "from spuco.evaluate import Evaluator\n",
        "\n",
        "evaluator = Evaluator(\n",
        "    testset=testset,\n",
        "    group_partition=testset.group_partition,\n",
        "    group_weights=trainset.group_weights,\n",
        "    batch_size=64,\n",
        "    model=model,\n",
        "    device=device,\n",
        "    verbose=True\n",
        ")\n",
        "evaluator.evaluate()"
      ]
    },
    {
      "cell_type": "code",
      "execution_count": 11,
      "metadata": {
        "id": "BFDSzB8HbuV9",
        "colab": {
          "base_uri": "https://localhost:8080/"
        },
        "outputId": "020a6dd8-f193-4ac5-8521-276dc24ad783"
      },
      "outputs": [
        {
          "output_type": "execute_result",
          "data": {
            "text/plain": [
              "((0, 1), 0.0)"
            ]
          },
          "metadata": {},
          "execution_count": 11
        }
      ],
      "source": [
        "evaluator.worst_group_accuracy"
      ]
    },
    {
      "cell_type": "code",
      "execution_count": 12,
      "metadata": {
        "id": "3IBJrIYzbuV9",
        "colab": {
          "base_uri": "https://localhost:8080/"
        },
        "outputId": "9c4d134d-f583-4e2b-f01a-3d966932867b"
      },
      "outputs": [
        {
          "output_type": "execute_result",
          "data": {
            "text/plain": [
              "99.39380051662361"
            ]
          },
          "metadata": {},
          "execution_count": 12
        }
      ],
      "source": [
        "evaluator.average_accuracy"
      ]
    },
    {
      "cell_type": "code",
      "execution_count": 13,
      "metadata": {
        "id": "cIdg2QGQbuV9",
        "colab": {
          "base_uri": "https://localhost:8080/"
        },
        "outputId": "10eda1f4-9fdb-4b09-8d1b-2398e39c23b5"
      },
      "outputs": [
        {
          "output_type": "execute_result",
          "data": {
            "text/plain": [
              "100.0"
            ]
          },
          "metadata": {},
          "execution_count": 13
        }
      ],
      "source": [
        "evaluator.evaluate_spurious_attribute_prediction()"
      ]
    },
    {
      "cell_type": "markdown",
      "source": [
        "# Train using JTT"
      ],
      "metadata": {
        "id": "h9r0iFpadPzs"
      }
    },
    {
      "cell_type": "markdown",
      "source": [
        "## Group Inference"
      ],
      "metadata": {
        "id": "n3i0gpOldSUu"
      }
    },
    {
      "cell_type": "code",
      "source": [
        "from spuco.group_inference import JTTInference\n",
        "from spuco.models import model_factory\n",
        "from spuco.utils import Trainer\n",
        "from torch.optim import SGD\n",
        "\n",
        "model = model_factory(\"lenet\", trainset[0][0].shape, trainset.num_classes).to(device)\n",
        "trainer = Trainer(\n",
        "    trainset=trainset,\n",
        "    model=model,\n",
        "    batch_size=64,\n",
        "    optimizer=SGD(model.parameters(), lr=1e-2, momentum=0.9, nesterov=True),\n",
        "    device=device,\n",
        "    verbose=True\n",
        ")\n",
        "trainer.train(1)"
      ],
      "metadata": {
        "id": "22GJnz1vXJoC",
        "colab": {
          "base_uri": "https://localhost:8080/"
        },
        "outputId": "c37fe7ee-7dcc-44a7-a603-6cf6e4a231b0"
      },
      "execution_count": 19,
      "outputs": [
        {
          "output_type": "stream",
          "name": "stderr",
          "text": [
            "Epoch 0: 100%|██████████| 751/751 [00:08<00:00, 93.74batch/s, accuracy=100.0%, loss=0.00619] \n"
          ]
        }
      ]
    },
    {
      "cell_type": "code",
      "source": [
        "predictions = torch.argmax(trainer.get_trainset_outputs(), dim=-1).detach().cpu().tolist()\n",
        "jtt = JTTInference(\n",
        "    predictions=predictions,\n",
        "    class_labels=trainset.labels\n",
        ")"
      ],
      "metadata": {
        "colab": {
          "base_uri": "https://localhost:8080/"
        },
        "id": "U5351WOueQhX",
        "outputId": "c5923ac6-ed61-4fe5-e62b-3fb1967fc436"
      },
      "execution_count": 20,
      "outputs": [
        {
          "output_type": "stream",
          "name": "stderr",
          "text": [
            "Getting Trainset Outputs: 100%|██████████| 751/751 [00:02<00:00, 318.53batch/s]\n"
          ]
        }
      ]
    },
    {
      "cell_type": "code",
      "source": [
        "group_partition = jtt.infer_groups()"
      ],
      "metadata": {
        "id": "xlYUuLdheUO9"
      },
      "execution_count": 21,
      "outputs": []
    },
    {
      "cell_type": "code",
      "source": [
        "\n",
        "for key in group_partition.keys():\n",
        "    print(key, len(group_partition[key]))"
      ],
      "metadata": {
        "colab": {
          "base_uri": "https://localhost:8080/"
        },
        "id": "osoXLc2heXb3",
        "outputId": "d9e9498e-a6ba-47d3-db6e-09420cd0386e"
      },
      "execution_count": 22,
      "outputs": [
        {
          "output_type": "stream",
          "name": "stdout",
          "text": [
            "(0, 0) 47713\n",
            "(0, 1) 291\n"
          ]
        }
      ]
    },
    {
      "cell_type": "code",
      "source": [
        "from spuco.evaluate import Evaluator\n",
        "\n",
        "evaluator = Evaluator(\n",
        "    testset=trainset,\n",
        "    group_partition=group_partition,\n",
        "    group_weights=trainset.group_weights,\n",
        "    batch_size=64,\n",
        "    model=model,\n",
        "    device=device,\n",
        "    verbose=True\n",
        ")\n",
        "evaluator.evaluate()"
      ],
      "metadata": {
        "colab": {
          "base_uri": "https://localhost:8080/"
        },
        "id": "-IZ9Ow3-ec6W",
        "outputId": "4ed8066f-6795-4c24-aeca-eafbb0591e95"
      },
      "execution_count": 23,
      "outputs": [
        {
          "output_type": "stream",
          "name": "stderr",
          "text": [
            "Evaluating group-wise accuracy:  50%|█████     | 1/2 [00:03<00:03,  3.05s/it]"
          ]
        },
        {
          "output_type": "stream",
          "name": "stdout",
          "text": [
            "Group (0, 0) Accuracy: 100.0\n"
          ]
        },
        {
          "output_type": "stream",
          "name": "stderr",
          "text": [
            "Evaluating group-wise accuracy: 100%|██████████| 2/2 [00:03<00:00,  1.66s/it]"
          ]
        },
        {
          "output_type": "stream",
          "name": "stdout",
          "text": [
            "Group (0, 1) Accuracy: 0.0\n"
          ]
        },
        {
          "output_type": "stream",
          "name": "stderr",
          "text": [
            "\n"
          ]
        },
        {
          "output_type": "execute_result",
          "data": {
            "text/plain": [
              "{(0, 0): 100.0, (0, 1): 0.0}"
            ]
          },
          "metadata": {},
          "execution_count": 23
        }
      ]
    },
    {
      "cell_type": "markdown",
      "source": [
        "## Robust Training"
      ],
      "metadata": {
        "id": "xOh_Bor4dU--"
      }
    },
    {
      "cell_type": "code",
      "source": [
        "from spuco.datasets import GroupLabeledDatasetWrapper\n",
        "\n",
        "group_labeled_trainset = GroupLabeledDatasetWrapper(trainset, group_partition)"
      ],
      "metadata": {
        "id": "oaIIiom5XIXC"
      },
      "execution_count": 24,
      "outputs": []
    },
    {
      "cell_type": "code",
      "source": [
        "from torch.optim import SGD\n",
        "from spuco.robust_train import UpSampleERM, DownSampleERM, CustomSampleERM\n",
        "from spuco.models import model_factory\n",
        "\n",
        "model = model_factory(\"lenet\", trainset[0][0].shape, trainset.num_classes).to(device)\n",
        "\n",
        "jtt_train = UpSampleERM(\n",
        "    model=model,\n",
        "    num_epochs=1,\n",
        "    trainset=trainset,\n",
        "    batch_size=64,\n",
        "    group_partition=group_partition,\n",
        "    optimizer=SGD(model.parameters(), lr=1e-3, momentum=0.9, nesterov=True),\n",
        "    device=device,\n",
        "    verbose=True\n",
        ")\n",
        "jtt_train.train()"
      ],
      "metadata": {
        "colab": {
          "base_uri": "https://localhost:8080/"
        },
        "id": "5wS41lFmeu7j",
        "outputId": "d1501a90-2f01-4c2c-84a4-6f3337a43be1"
      },
      "execution_count": 25,
      "outputs": [
        {
          "output_type": "stream",
          "name": "stderr",
          "text": [
            "Epoch 0: 100%|██████████| 1492/1492 [00:14<00:00, 103.66batch/s, accuracy=0.0%, loss=2.23]\n"
          ]
        }
      ]
    },
    {
      "cell_type": "code",
      "source": [
        "from spuco.evaluate import Evaluator\n",
        "\n",
        "evaluator = Evaluator(\n",
        "    testset=testset,\n",
        "    group_partition=testset.group_partition,\n",
        "    group_weights=trainset.group_weights,\n",
        "    batch_size=64,\n",
        "    model=model,\n",
        "    device=device,\n",
        "    verbose=True\n",
        ")\n",
        "evaluator.evaluate()"
      ],
      "metadata": {
        "colab": {
          "base_uri": "https://localhost:8080/"
        },
        "id": "o504-wyBe0U0",
        "outputId": "67f6b809-e807-432b-9612-19dd93e57e93"
      },
      "execution_count": 26,
      "outputs": [
        {
          "output_type": "stream",
          "name": "stderr",
          "text": [
            "Evaluating group-wise accuracy:   4%|▍         | 1/25 [00:00<00:06,  3.70it/s]"
          ]
        },
        {
          "output_type": "stream",
          "name": "stdout",
          "text": [
            "Group (0, 0) Accuracy: 99.29078014184397\n"
          ]
        },
        {
          "output_type": "stream",
          "name": "stderr",
          "text": [
            "\rEvaluating group-wise accuracy:   8%|▊         | 2/25 [00:00<00:06,  3.73it/s]"
          ]
        },
        {
          "output_type": "stream",
          "name": "stdout",
          "text": [
            "Group (0, 1) Accuracy: 0.0\n"
          ]
        },
        {
          "output_type": "stream",
          "name": "stderr",
          "text": [
            "\rEvaluating group-wise accuracy:  12%|█▏        | 3/25 [00:00<00:05,  3.74it/s]"
          ]
        },
        {
          "output_type": "stream",
          "name": "stdout",
          "text": [
            "Group (0, 2) Accuracy: 0.0\n"
          ]
        },
        {
          "output_type": "stream",
          "name": "stderr",
          "text": [
            "\rEvaluating group-wise accuracy:  16%|█▌        | 4/25 [00:01<00:05,  3.56it/s]"
          ]
        },
        {
          "output_type": "stream",
          "name": "stdout",
          "text": [
            "Group (0, 3) Accuracy: 0.0\n"
          ]
        },
        {
          "output_type": "stream",
          "name": "stderr",
          "text": [
            "\rEvaluating group-wise accuracy:  20%|██        | 5/25 [00:01<00:05,  3.65it/s]"
          ]
        },
        {
          "output_type": "stream",
          "name": "stdout",
          "text": [
            "Group (0, 4) Accuracy: 0.0\n"
          ]
        },
        {
          "output_type": "stream",
          "name": "stderr",
          "text": [
            "\rEvaluating group-wise accuracy:  24%|██▍       | 6/25 [00:01<00:05,  3.65it/s]"
          ]
        },
        {
          "output_type": "stream",
          "name": "stdout",
          "text": [
            "Group (1, 0) Accuracy: 1.466992665036675\n"
          ]
        },
        {
          "output_type": "stream",
          "name": "stderr",
          "text": [
            "\rEvaluating group-wise accuracy:  28%|██▊       | 7/25 [00:01<00:04,  3.62it/s]"
          ]
        },
        {
          "output_type": "stream",
          "name": "stdout",
          "text": [
            "Group (1, 1) Accuracy: 100.0\n"
          ]
        },
        {
          "output_type": "stream",
          "name": "stderr",
          "text": [
            "\rEvaluating group-wise accuracy:  32%|███▏      | 8/25 [00:02<00:04,  3.62it/s]"
          ]
        },
        {
          "output_type": "stream",
          "name": "stdout",
          "text": [
            "Group (1, 2) Accuracy: 0.49019607843137253\n"
          ]
        },
        {
          "output_type": "stream",
          "name": "stderr",
          "text": [
            "\rEvaluating group-wise accuracy:  36%|███▌      | 9/25 [00:02<00:04,  3.67it/s]"
          ]
        },
        {
          "output_type": "stream",
          "name": "stdout",
          "text": [
            "Group (1, 3) Accuracy: 0.0\n"
          ]
        },
        {
          "output_type": "stream",
          "name": "stderr",
          "text": [
            "\rEvaluating group-wise accuracy:  40%|████      | 10/25 [00:02<00:04,  3.69it/s]"
          ]
        },
        {
          "output_type": "stream",
          "name": "stdout",
          "text": [
            "Group (1, 4) Accuracy: 0.0\n"
          ]
        },
        {
          "output_type": "stream",
          "name": "stderr",
          "text": [
            "\rEvaluating group-wise accuracy:  44%|████▍     | 11/25 [00:03<00:03,  3.64it/s]"
          ]
        },
        {
          "output_type": "stream",
          "name": "stdout",
          "text": [
            "Group (2, 0) Accuracy: 0.0\n"
          ]
        },
        {
          "output_type": "stream",
          "name": "stderr",
          "text": [
            "\rEvaluating group-wise accuracy:  48%|████▊     | 12/25 [00:03<00:03,  3.65it/s]"
          ]
        },
        {
          "output_type": "stream",
          "name": "stdout",
          "text": [
            "Group (2, 1) Accuracy: 0.0\n"
          ]
        },
        {
          "output_type": "stream",
          "name": "stderr",
          "text": [
            "\rEvaluating group-wise accuracy:  52%|█████▏    | 13/25 [00:03<00:03,  3.70it/s]"
          ]
        },
        {
          "output_type": "stream",
          "name": "stdout",
          "text": [
            "Group (2, 2) Accuracy: 100.0\n"
          ]
        },
        {
          "output_type": "stream",
          "name": "stderr",
          "text": [
            "\rEvaluating group-wise accuracy:  56%|█████▌    | 14/25 [00:03<00:02,  3.72it/s]"
          ]
        },
        {
          "output_type": "stream",
          "name": "stdout",
          "text": [
            "Group (2, 3) Accuracy: 0.0\n"
          ]
        },
        {
          "output_type": "stream",
          "name": "stderr",
          "text": [
            "\rEvaluating group-wise accuracy:  60%|██████    | 15/25 [00:04<00:02,  3.67it/s]"
          ]
        },
        {
          "output_type": "stream",
          "name": "stdout",
          "text": [
            "Group (2, 4) Accuracy: 0.0\n"
          ]
        },
        {
          "output_type": "stream",
          "name": "stderr",
          "text": [
            "\rEvaluating group-wise accuracy:  64%|██████▍   | 16/25 [00:04<00:02,  3.69it/s]"
          ]
        },
        {
          "output_type": "stream",
          "name": "stdout",
          "text": [
            "Group (3, 0) Accuracy: 0.0\n"
          ]
        },
        {
          "output_type": "stream",
          "name": "stderr",
          "text": [
            "\rEvaluating group-wise accuracy:  68%|██████▊   | 17/25 [00:04<00:02,  3.65it/s]"
          ]
        },
        {
          "output_type": "stream",
          "name": "stdout",
          "text": [
            "Group (3, 1) Accuracy: 0.0\n"
          ]
        },
        {
          "output_type": "stream",
          "name": "stderr",
          "text": [
            "\rEvaluating group-wise accuracy:  72%|███████▏  | 18/25 [00:04<00:01,  3.65it/s]"
          ]
        },
        {
          "output_type": "stream",
          "name": "stdout",
          "text": [
            "Group (3, 2) Accuracy: 0.0\n"
          ]
        },
        {
          "output_type": "stream",
          "name": "stderr",
          "text": [
            "\rEvaluating group-wise accuracy:  76%|███████▌  | 19/25 [00:05<00:01,  3.58it/s]"
          ]
        },
        {
          "output_type": "stream",
          "name": "stdout",
          "text": [
            "Group (3, 3) Accuracy: 100.0\n"
          ]
        },
        {
          "output_type": "stream",
          "name": "stderr",
          "text": [
            "\rEvaluating group-wise accuracy:  80%|████████  | 20/25 [00:05<00:01,  3.51it/s]"
          ]
        },
        {
          "output_type": "stream",
          "name": "stdout",
          "text": [
            "Group (3, 4) Accuracy: 0.0\n"
          ]
        },
        {
          "output_type": "stream",
          "name": "stderr",
          "text": [
            "\rEvaluating group-wise accuracy:  84%|████████▍ | 21/25 [00:05<00:01,  3.07it/s]"
          ]
        },
        {
          "output_type": "stream",
          "name": "stdout",
          "text": [
            "Group (4, 0) Accuracy: 29.974811083123427\n"
          ]
        },
        {
          "output_type": "stream",
          "name": "stderr",
          "text": [
            "\rEvaluating group-wise accuracy:  88%|████████▊ | 22/25 [00:06<00:01,  2.76it/s]"
          ]
        },
        {
          "output_type": "stream",
          "name": "stdout",
          "text": [
            "Group (4, 1) Accuracy: 0.0\n"
          ]
        },
        {
          "output_type": "stream",
          "name": "stderr",
          "text": [
            "\rEvaluating group-wise accuracy:  92%|█████████▏| 23/25 [00:06<00:00,  2.64it/s]"
          ]
        },
        {
          "output_type": "stream",
          "name": "stdout",
          "text": [
            "Group (4, 2) Accuracy: 0.0\n"
          ]
        },
        {
          "output_type": "stream",
          "name": "stderr",
          "text": [
            "\rEvaluating group-wise accuracy:  96%|█████████▌| 24/25 [00:07<00:00,  2.54it/s]"
          ]
        },
        {
          "output_type": "stream",
          "name": "stdout",
          "text": [
            "Group (4, 3) Accuracy: 0.0\n"
          ]
        },
        {
          "output_type": "stream",
          "name": "stderr",
          "text": [
            "Evaluating group-wise accuracy: 100%|██████████| 25/25 [00:07<00:00,  3.27it/s]"
          ]
        },
        {
          "output_type": "stream",
          "name": "stdout",
          "text": [
            "Group (4, 4) Accuracy: 100.0\n"
          ]
        },
        {
          "output_type": "stream",
          "name": "stderr",
          "text": [
            "\n"
          ]
        },
        {
          "output_type": "execute_result",
          "data": {
            "text/plain": [
              "{(0, 0): 99.29078014184397,\n",
              " (0, 1): 0.0,\n",
              " (0, 2): 0.0,\n",
              " (0, 3): 0.0,\n",
              " (0, 4): 0.0,\n",
              " (1, 0): 1.466992665036675,\n",
              " (1, 1): 100.0,\n",
              " (1, 2): 0.49019607843137253,\n",
              " (1, 3): 0.0,\n",
              " (1, 4): 0.0,\n",
              " (2, 0): 0.0,\n",
              " (2, 1): 0.0,\n",
              " (2, 2): 100.0,\n",
              " (2, 3): 0.0,\n",
              " (2, 4): 0.0,\n",
              " (3, 0): 0.0,\n",
              " (3, 1): 0.0,\n",
              " (3, 2): 0.0,\n",
              " (3, 3): 100.0,\n",
              " (3, 4): 0.0,\n",
              " (4, 0): 29.974811083123427,\n",
              " (4, 1): 0.0,\n",
              " (4, 2): 0.0,\n",
              " (4, 3): 0.0,\n",
              " (4, 4): 100.0}"
            ]
          },
          "metadata": {},
          "execution_count": 26
        }
      ]
    },
    {
      "cell_type": "code",
      "source": [
        "evaluator.worst_group_accuracy"
      ],
      "metadata": {
        "colab": {
          "base_uri": "https://localhost:8080/"
        },
        "id": "Y4Z-W_w1e3G-",
        "outputId": "03ba61e7-ce05-41d9-b221-d21cf0cff91e"
      },
      "execution_count": 27,
      "outputs": [
        {
          "output_type": "execute_result",
          "data": {
            "text/plain": [
              "((0, 1), 0.0)"
            ]
          },
          "metadata": {},
          "execution_count": 27
        }
      ]
    },
    {
      "cell_type": "code",
      "source": [
        "evaluator.average_accuracy"
      ],
      "metadata": {
        "colab": {
          "base_uri": "https://localhost:8080/"
        },
        "id": "FsxsMV33e8DH",
        "outputId": "58ae73ac-e118-4a2a-918f-4759c9b0e8a7"
      },
      "execution_count": 28,
      "outputs": [
        {
          "output_type": "execute_result",
          "data": {
            "text/plain": [
              "99.25491732308662"
            ]
          },
          "metadata": {},
          "execution_count": 28
        }
      ]
    },
    {
      "cell_type": "code",
      "source": [
        "evaluator.evaluate_spurious_attribute_prediction()"
      ],
      "metadata": {
        "colab": {
          "base_uri": "https://localhost:8080/"
        },
        "id": "Q_g-e84Qe_Ya",
        "outputId": "eef457c2-d0b8-4046-bb74-a79720dcdd94"
      },
      "execution_count": 29,
      "outputs": [
        {
          "output_type": "execute_result",
          "data": {
            "text/plain": [
              "97.52"
            ]
          },
          "metadata": {},
          "execution_count": 29
        }
      ]
    },
    {
      "cell_type": "markdown",
      "source": [
        "# Download Notebook as PDF\n"
      ],
      "metadata": {
        "id": "ytiMS8kBXKY4"
      }
    },
    {
      "cell_type": "code",
      "source": [],
      "metadata": {
        "id": "6UpVpBuqXNAB"
      },
      "execution_count": null,
      "outputs": []
    }
  ],
  "metadata": {
    "kernelspec": {
      "display_name": "Python 3",
      "name": "python3"
    },
    "language_info": {
      "codemirror_mode": {
        "name": "ipython",
        "version": 3
      },
      "file_extension": ".py",
      "mimetype": "text/x-python",
      "name": "python",
      "nbconvert_exporter": "python",
      "pygments_lexer": "ipython3",
      "version": "3.10.9"
    },
    "orig_nbformat": 4,
    "colab": {
      "provenance": [],
      "gpuType": "T4",
      "include_colab_link": true
    },
    "accelerator": "GPU"
  },
  "nbformat": 4,
  "nbformat_minor": 0
}